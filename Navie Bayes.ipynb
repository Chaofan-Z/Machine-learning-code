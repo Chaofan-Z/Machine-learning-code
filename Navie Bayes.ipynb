{
 "cells": [
  {
   "cell_type": "code",
   "execution_count": 1,
   "metadata": {},
   "outputs": [],
   "source": [
    "# 训练数据的联合概率已知P(X, Y), 求解P(Y|X)后验概率 = 先验p(Y) * 似然P(X|Y) / P(X)\n",
    "# 模型假设：条件独立，各个维度的X是独立的\n",
    "# 模型input：训练数据，可以得到联合概率和先验概率；\n",
    "# 目标：对于一个输入x，选择P(y=ck) p (x|y) 最大的y的类别\n",
    "\n",
    "# 先验分布用高斯分布或者多项式分布或者伯努利分布；连续一般高斯，离散选择多项式或者伯努利"
   ]
  },
  {
   "cell_type": "code",
   "execution_count": 2,
   "metadata": {},
   "outputs": [],
   "source": [
    "import numpy as np\n",
    "import pandas as pd\n",
    "import matplotlib.pyplot as plt\n",
    "%matplotlib inline\n",
    "\n",
    "from sklearn.datasets import load_iris\n",
    "from sklearn.model_selection import train_test_split\n",
    "\n",
    "from collections import Counter\n",
    "import math"
   ]
  },
  {
   "cell_type": "code",
   "execution_count": 4,
   "metadata": {},
   "outputs": [],
   "source": [
    "def create_data():\n",
    "    iris = load_iris()\n",
    "    df = pd.DataFrame(iris.data, columns=iris.feature_names)\n",
    "    df['label'] = iris.target\n",
    "    df.columns = ['sepal length', 'sepal width', 'petal length', 'petal width', 'label']\n",
    "    data = np.array(df.iloc[:100, :])\n",
    "    return data[:,:-1], data[:,-1]"
   ]
  },
  {
   "cell_type": "code",
   "execution_count": 5,
   "metadata": {},
   "outputs": [],
   "source": [
    "X, y = create_data()"
   ]
  },
  {
   "cell_type": "code",
   "execution_count": 7,
   "metadata": {},
   "outputs": [],
   "source": [
    "trainx, testx, trainy, testy = train_test_split(X, y, test_size=0.3)"
   ]
  },
  {
   "cell_type": "code",
   "execution_count": 28,
   "metadata": {},
   "outputs": [],
   "source": [
    "# 这里的高斯分布 用来拟合在y=ck的条件下，特征的分布，由于这里特征为连续值，因此使用高斯分布更加合适\n",
    "# 先验概率从训练集当中获得，是否合理？\n",
    "class NavieBayes:\n",
    "    def __init__(self):\n",
    "        self.model = None\n",
    "    \n",
    "    # 这里X指一个维度的特征\n",
    "    @staticmethod\n",
    "    def mean(X):\n",
    "        return sum(X) / float(len(X))\n",
    "    \n",
    "    def stdev(self, X):\n",
    "        avg = self.mean(X)\n",
    "        return math.sqrt(sum([pow(x - avg, 2) for x in X]) / float(len(X)))\n",
    "    \n",
    "    def gaussian_probability(self, x, mean, stdev):\n",
    "        exponent = math.exp(-(math.pow(x - mean, 2) /\n",
    "                              (2 * math.pow(stdev, 2))))\n",
    "        return (1 / (math.sqrt(2 * math.pi) * stdev)) * exponent\n",
    "    \n",
    "    # 计算每个特征维度的均值和方差\n",
    "    def summarize(self, train_data):\n",
    "        summaries = [(self.mean(i), self.stdev(i)) for i in zip(*train_data)]\n",
    "        return summaries\n",
    "\n",
    "    def fit(self, X, y):\n",
    "        lables = list(set(y))\n",
    "        data = {label:[] for label in lables}\n",
    "        \n",
    "        for f, label in zip(X, y):\n",
    "            data[label].append(f)\n",
    "        \n",
    "        # 对数据进行划分，对于某个label，计算其下不同维度特征的均值和方差，这样就能计算特征的高斯分布概率\n",
    "        self.model = {\n",
    "            label: self.summarize(value) for label, value in data.items()\n",
    "        }\n",
    "        print(self.model.items())\n",
    "        \n",
    "    def calculate_probabilities(self, input_data):\n",
    "        probabilities = {}\n",
    "        # model中保存 对应label各个维度特征的均值和方差\n",
    "        for label, value in self.model.items():\n",
    "            probabilities[label] = 1\n",
    "            for i in range(len(value)):\n",
    "                mean, std = value[i]\n",
    "                probabilities[label] *= self.gaussian_probability(input_data[i], mean, std)\n",
    "        return probabilities\n",
    "    \n",
    "    def predict(self, X_test):\n",
    "        # 根据概率排序，选择最大概率返回0位置(label)\n",
    "        label = sorted(\n",
    "            self.calculate_probabilities(X_test).items(),\n",
    "            key=lambda x: x[-1])[-1][0]\n",
    "        return label\n",
    "        \n",
    "    \n",
    "    def score(self, X_test, y_test):\n",
    "        right = 0\n",
    "        for X, y in zip(X_test, y_test):\n",
    "            label = self.predict(X)\n",
    "            if label == y:\n",
    "                right += 1\n",
    "\n",
    "        return right / float(len(X_test))"
   ]
  },
  {
   "cell_type": "code",
   "execution_count": 29,
   "metadata": {},
   "outputs": [
    {
     "name": "stdout",
     "output_type": "stream",
     "text": [
      "dict_items([(0.0, [(5.0166666666666675, 0.3337497399083464), (3.4305555555555554, 0.33234808095365953), (1.4611111111111112, 0.18897057057438832), (0.25000000000000006, 0.10408329997330662)]), (1.0, [(5.844117647058823, 0.5134606786425915), (2.6911764705882355, 0.31749724135793084), (4.135294117647059, 0.47333755704209063), (1.2823529411764707, 0.1977380742820189)])])\n",
      "0.0\n"
     ]
    }
   ],
   "source": [
    "model = NavieBayes()\n",
    "model.fit(trainx, trainy)\n",
    "print(model.predict([4.4,  3.2,  1.3,  0.2]))"
   ]
  },
  {
   "cell_type": "code",
   "execution_count": 31,
   "metadata": {},
   "outputs": [
    {
     "data": {
      "text/plain": [
       "1.0"
      ]
     },
     "execution_count": 31,
     "metadata": {},
     "output_type": "execute_result"
    }
   ],
   "source": [
    "model.score(testx, testy)"
   ]
  },
  {
   "cell_type": "code",
   "execution_count": null,
   "metadata": {},
   "outputs": [],
   "source": []
  }
 ],
 "metadata": {
  "kernelspec": {
   "display_name": "python-tensorflow",
   "language": "python",
   "name": "tensorflow"
  },
  "language_info": {
   "codemirror_mode": {
    "name": "ipython",
    "version": 3
   },
   "file_extension": ".py",
   "mimetype": "text/x-python",
   "name": "python",
   "nbconvert_exporter": "python",
   "pygments_lexer": "ipython3",
   "version": "3.7.4"
  },
  "varInspector": {
   "cols": {
    "lenName": 16,
    "lenType": 16,
    "lenVar": 40
   },
   "kernels_config": {
    "python": {
     "delete_cmd_postfix": "",
     "delete_cmd_prefix": "del ",
     "library": "var_list.py",
     "varRefreshCmd": "print(var_dic_list())"
    },
    "r": {
     "delete_cmd_postfix": ") ",
     "delete_cmd_prefix": "rm(",
     "library": "var_list.r",
     "varRefreshCmd": "cat(var_dic_list()) "
    }
   },
   "types_to_exclude": [
    "module",
    "function",
    "builtin_function_or_method",
    "instance",
    "_Feature"
   ],
   "window_display": false
  }
 },
 "nbformat": 4,
 "nbformat_minor": 2
}
